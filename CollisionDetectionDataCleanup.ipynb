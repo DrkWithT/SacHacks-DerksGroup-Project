{
 "cells": [
  {
   "cell_type": "code",
   "execution_count": 1,
   "id": "83008abe-fbd6-41a2-9599-c2bb2965d83f",
   "metadata": {},
   "outputs": [],
   "source": [
    "import pandas as pd\n",
    "import matplotlib.pyplot as plt\n",
    "import numpy as np\n",
    "%matplotlib inline"
   ]
  },
  {
   "cell_type": "code",
   "execution_count": 2,
   "id": "71cae22d-3c9c-455f-9ab2-ddb00d425072",
   "metadata": {},
   "outputs": [],
   "source": [
    "row_count = 1000\n",
    "traffic_df = pd.DataFrame()\n",
    "# for chunk in pd.read_csv(\"Motor_Vehicle_Collisions_-_Crashes.csv\", chunksize = row_count):\n",
    "#     traffic_df = traffic_df.append(chunk, ignore_index=True)\n",
    "traffic_df = pd.concat(pd.read_csv(\"Motor_Vehicle_Collisions_-_Crashes.csv\", chunksize=row_count), ignore_index=True)\n",
    "# print(traffic_df.iloc[:, :2].head(10))"
   ]
  },
  {
   "cell_type": "code",
   "execution_count": 3,
   "id": "15814082-5f05-48cd-a57d-4463072a11cf",
   "metadata": {},
   "outputs": [],
   "source": [
    "traffic_df.columns = traffic_df.columns.str.replace(\" \", \"_\")\n",
    "# print(traffic_df.columns)\n",
    "# print(traffic_df.info())"
   ]
  },
  {
   "cell_type": "code",
   "execution_count": 4,
   "id": "7ecd727b-0d30-4ea3-82e9-610ab3072c36",
   "metadata": {},
   "outputs": [
    {
     "data": {
      "text/plain": [
       "Index(['crash_date', 'crash_time', 'borough', 'zip_code', 'latitude',\n",
       "       'longitude', 'location', 'on_street_name', 'cross_street_name',\n",
       "       'off_street_name', 'number_of_persons_injured',\n",
       "       'number_of_persons_killed', 'number_of_pedestrians_injured',\n",
       "       'number_of_pedestrians_killed', 'number_of_cyclist_injured',\n",
       "       'number_of_cyclist_killed', 'number_of_motorist_injured',\n",
       "       'number_of_motorist_killed', 'contributing_factor_vehicle_1',\n",
       "       'contributing_factor_vehicle_2', 'contributing_factor_vehicle_3',\n",
       "       'contributing_factor_vehicle_4', 'contributing_factor_vehicle_5',\n",
       "       'collision_id', 'vehicle_type_code_1', 'vehicle_type_code_2',\n",
       "       'vehicle_type_code_3', 'vehicle_type_code_4', 'vehicle_type_code_5'],\n",
       "      dtype='object')"
      ]
     },
     "execution_count": 4,
     "metadata": {},
     "output_type": "execute_result"
    }
   ],
   "source": [
    "traffic_df.columns = map(str.lower, traffic_df.columns)\n",
    "\n",
    "traffic_df.columns = traffic_df.columns.str.replace(\" \", \"_\")\n",
    "traffic_df.columns"
   ]
  },
  {
   "cell_type": "code",
   "execution_count": 5,
   "id": "19a5ff2d-fc6e-49a7-855b-bf74cf1fa61b",
   "metadata": {},
   "outputs": [
    {
     "name": "stdout",
     "output_type": "stream",
     "text": [
      "(2034977,)\n"
     ]
    }
   ],
   "source": [
    "traffic_df = traffic_df[(traffic_df[['latitude']] != 0).all(axis=1)]\n",
    "# print(traffic_df.latitude.describe())\n",
    "print(traffic_df.latitude.shape)"
   ]
  },
  {
   "cell_type": "code",
   "execution_count": 6,
   "id": "9e30d4dd-9a5d-4a20-b300-9b43cc2df3fc",
   "metadata": {},
   "outputs": [],
   "source": [
    "clean_traffic_df = traffic_df[traffic_df.latitude > 36]\n",
    "clean_traffic_df = clean_traffic_df[clean_traffic_df.latitude < 41.5]\n",
    "\n",
    "clean_traffic_df = traffic_df[traffic_df.longitude > -74.4]\n",
    "clean_traffic_df = clean_traffic_df[clean_traffic_df.longitude < -60]"
   ]
  },
  {
   "cell_type": "code",
   "execution_count": 7,
   "id": "22ef38b2-2026-4caa-ac77-fc3dd9551e7a",
   "metadata": {},
   "outputs": [
    {
     "name": "stdout",
     "output_type": "stream",
     "text": [
      "1803556\n"
     ]
    }
   ],
   "source": [
    "clean_traffic_df.to_csv(path_or_buf='accident_df.csv')\n",
    "coordinate_df = clean_traffic_df[['crash_date', 'crash_time', 'longitude', 'latitude']].copy()\n",
    "print(len(coordinate_df))"
   ]
  },
  {
   "cell_type": "code",
   "execution_count": 8,
   "id": "f0580dc5-f6ae-4268-8c7b-1d468c47f693",
   "metadata": {},
   "outputs": [
    {
     "name": "stdout",
     "output_type": "stream",
     "text": [
      "1803545\n"
     ]
    }
   ],
   "source": [
    "coordinate_df = coordinate_df[coordinate_df.latitude < 41]\n",
    "coordinate_df = coordinate_df[coordinate_df.longitude < 73.7]\n",
    "print(len(coordinate_df))\n",
    "coordinate_df.to_csv(path_or_buf='all_coords_df.csv')"
   ]
  },
  {
   "cell_type": "code",
   "execution_count": null,
   "id": "4e575621-79ec-41ed-8a21-28d86de41034",
   "metadata": {},
   "outputs": [],
   "source": [
    "traffic_df['datetime'] = pd.to_datetime(traffic_df['crash_date'] + \" \" + traffic_df['crash_time'])\n",
    "traffic_df.crash_date = traffic_df.crash_date.astype(\"datetime64[ns]\")\n",
    "# traffic_df = traffic_df.set_index(pd.DatetimeIndex(traffic_df['datetime']))\n",
    "traffic_df.latitude = traffic_df.latitude.fillna(0)\n",
    "print(traffic_df.latitude.shape)\n",
    "monthly_count = traffic_df['crash_date'].resample('MS').count()\n",
    "_ = monthly_count.plot()\n",
    "_ = plt.title('Accidents per month')\n",
    "_ = plt.ylabel('Count')\n",
    "plt.savefig('accidents_month.png')\n",
    "# plt.show()"
   ]
  }
 ],
 "metadata": {
  "kernelspec": {
   "display_name": "Python 3 (ipykernel)",
   "language": "python",
   "name": "python3"
  },
  "language_info": {
   "codemirror_mode": {
    "name": "ipython",
    "version": 3
   },
   "file_extension": ".py",
   "mimetype": "text/x-python",
   "name": "python",
   "nbconvert_exporter": "python",
   "pygments_lexer": "ipython3",
   "version": "3.10.6"
  }
 },
 "nbformat": 4,
 "nbformat_minor": 5
}
